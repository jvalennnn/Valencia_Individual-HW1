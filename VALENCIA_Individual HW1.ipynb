{
 "cells": [
  {
   "cell_type": "code",
   "id": "initial_id",
   "metadata": {
    "collapsed": true,
    "ExecuteTime": {
     "end_time": "2025-02-08T15:48:05.723630Z",
     "start_time": "2025-02-08T15:48:05.718890Z"
    }
   },
   "source": [
    "#Individual HW1\n",
    "#Cheat Sheet about String, Variables, Float, and Concatenation\n",
    "#Strings: sequence of characters enclosed by using either single ('') or double (\"\") quotes\n",
    "#Variables: containers for storing data\n",
    "#Example: \"name\" is the variable while \"Juliana\" is the string\n",
    "name = \"Juliana\"\n",
    "#Float: is a number consisting of decimals; Example:\n",
    "number = 11.2\n",
    "#Concatenation: means adding strings together\n",
    "age = 21\n",
    "school = \"De La Salle University\"\n",
    "Info = name + \" is a \" + str(age) + \" year old student who studies at \" + school\n",
    "print(Info)"
   ],
   "outputs": [
    {
     "name": "stdout",
     "output_type": "stream",
     "text": [
      "Juliana is a 21 year old student who studies at De La Salle University\n"
     ]
    }
   ],
   "execution_count": 20
  },
  {
   "metadata": {
    "ExecuteTime": {
     "end_time": "2025-02-08T16:08:04.583705Z",
     "start_time": "2025-02-08T16:08:04.578048Z"
    }
   },
   "cell_type": "code",
   "source": [
    "#Full example of combining strings and float:\n",
    "name = \"Juliana Valencia\"\n",
    "age = 21\n",
    "school = \"De La Salle University\"\n",
    "course = \"Business Management\"\n",
    "business = \"Airbnb\"\n",
    "location = \"Makati City\"\n",
    "rating = 4.83\n",
    "Background = name + \" is a \" + str(age) + \" year old student from \" + school + \" who is taking up \" + course + \" and is also managing her parents' \" + business + \" business located in \" + location + \", which currently has a rating of \" + str(rating) + \" stars.\"\n",
    "print(Background)"
   ],
   "id": "d904e3cf13ca1393",
   "outputs": [
    {
     "name": "stdout",
     "output_type": "stream",
     "text": [
      "Juliana Valencia is a 21 year old student from De La Salle University who is taking up Business Management and is also managing her parents' Airbnb business located in Makati City, which currently has a rating of 4.83 stars.\n"
     ]
    }
   ],
   "execution_count": 6
  },
  {
   "metadata": {},
   "cell_type": "code",
   "outputs": [],
   "execution_count": null,
   "source": "",
   "id": "754f3a1d327fbb34"
  }
 ],
 "metadata": {
  "kernelspec": {
   "display_name": "Python 3",
   "language": "python",
   "name": "python3"
  },
  "language_info": {
   "codemirror_mode": {
    "name": "ipython",
    "version": 2
   },
   "file_extension": ".py",
   "mimetype": "text/x-python",
   "name": "python",
   "nbconvert_exporter": "python",
   "pygments_lexer": "ipython2",
   "version": "2.7.6"
  }
 },
 "nbformat": 4,
 "nbformat_minor": 5
}
